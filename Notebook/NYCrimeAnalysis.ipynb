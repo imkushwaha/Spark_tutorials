{
 "cells": [
  {
   "cell_type": "code",
   "execution_count": 1,
   "id": "ce417aec",
   "metadata": {},
   "outputs": [
    {
     "name": "stdout",
     "output_type": "stream",
     "text": [
      "Spark found in your system !!\n",
      "Spark Context and Spark session initialized !!\n"
     ]
    }
   ],
   "source": [
    "from init_SparkContext import init_SparkContext\n",
    "sc, spark = init_SparkContext(appName = \"NYCrimeAnalysis\")"
   ]
  },
  {
   "cell_type": "code",
   "execution_count": 2,
   "id": "b403ee2f",
   "metadata": {},
   "outputs": [
    {
     "data": {
      "text/html": [
       "\n",
       "        <div>\n",
       "            <p><b>SparkContext</b></p>\n",
       "\n",
       "            <p><a href=\"http://LAPTOP-MQOSC6GE:4040\">Spark UI</a></p>\n",
       "\n",
       "            <dl>\n",
       "              <dt>Version</dt>\n",
       "                <dd><code>v3.3.0</code></dd>\n",
       "              <dt>Master</dt>\n",
       "                <dd><code>local</code></dd>\n",
       "              <dt>AppName</dt>\n",
       "                <dd><code>NYCrimeAnalysis</code></dd>\n",
       "            </dl>\n",
       "        </div>\n",
       "        "
      ],
      "text/plain": [
       "<SparkContext master=local appName=NYCrimeAnalysis>"
      ]
     },
     "execution_count": 2,
     "metadata": {},
     "output_type": "execute_result"
    }
   ],
   "source": [
    "sc"
   ]
  },
  {
   "cell_type": "code",
   "execution_count": 3,
   "id": "c60f528b",
   "metadata": {},
   "outputs": [],
   "source": [
    "# Load the data and get a quick sense\n",
    "path = \"D:\\\\Big Data\\\\Notebook\\\\data\\\\NYPD_7_Major_Felony_Incidents.csv\"\n",
    "data = sc.textFile(path)"
   ]
  },
  {
   "cell_type": "code",
   "execution_count": 6,
   "id": "f2923b82",
   "metadata": {},
   "outputs": [
    {
     "data": {
      "text/plain": [
       "D:\\Big Data\\Notebook\\data\\NYPD_7_Major_Felony_Incidents.csv MapPartitionsRDD[1] at textFile at NativeMethodAccessorImpl.java:0"
      ]
     },
     "execution_count": 6,
     "metadata": {},
     "output_type": "execute_result"
    }
   ],
   "source": [
    "data"
   ]
  },
  {
   "cell_type": "code",
   "execution_count": 7,
   "id": "975381e9",
   "metadata": {},
   "outputs": [
    {
     "data": {
      "text/plain": [
       "['OBJECTID,Identifier,Occurrence Date,Day of Week,Occurrence Month,Occurrence Day,Occurrence Year,Occurrence Hour,CompStat Month,CompStat Day,CompStat Year,Offense,Offense Classification,Sector,Precinct,Borough,Jurisdiction,XCoordinate,YCoordinate,Location 1',\n",
       " '1,f070032d,09/06/1940 07:30:00 PM,Friday,Sep,6,1940,19,9,7,2010,BURGLARY,FELONY,D,66,BROOKLYN,N.Y. POLICE DEPT,987478,166141,\"(40.6227027620001, -73.9883732929999)\"',\n",
       " '2,c6245d4d,12/14/1968 12:20:00 AM,Saturday,Dec,14,1968,0,12,14,2008,GRAND LARCENY,FELONY,G,28,MANHATTAN,N.Y. POLICE DEPT,996470,232106,\"(40.8037530600001, -73.955861904)\"',\n",
       " '3,716dbc6f,10/30/1970 03:30:00 PM,Friday,Oct,30,1970,15,10,31,2008,BURGLARY,FELONY,H,84,BROOKLYN,N.Y. POLICE DEPT,986508,190249,\"(40.688874254, -73.9918594329999)\"',\n",
       " '4,638cd7b7,07/18/1972 11:00:00 PM,Tuesday,Jul,18,1972,23,7,19,2012,GRAND LARCENY OF MOTOR VEHICLE,FELONY,F,73,BROOKLYN,N.Y. POLICE DEPT,1005876,182440,\"(40.6674141890001, -73.9220463899999)\"',\n",
       " '5,6e410287,05/21/1987 12:01:00 AM,Thursday,May,21,1987,0,5,28,2009,GRAND LARCENY,FELONY,K,75,BROOKLYN,N.Y. POLICE DEPT,1017958,182266,\"(40.6668988440001, -73.878495425)\"',\n",
       " '6,7eebfe3c,02/01/1990 09:00:00 AM,Thursday,Feb,1,1990,9,9,17,2014,GRAND LARCENY,FELONY,K,105,QUEENS,N.Y. POLICE DEPT,1058407,204788,\"(40.7284698170001, -73.7324430589999)\"',\n",
       " '7,da21f94f,11/13/1990 12:01:00 AM,Tuesday,Nov,13,1990,0,6,7,2007,GRAND LARCENY,FELONY,,73,BROOKLYN,N.Y. HOUSING POLICE,1010272,183760,\"(40.671025464, -73.906195082)\"',\n",
       " '8,87c99e8c,02/02/1992 04:00:00 PM,Sunday,Feb,2,1992,16,3,27,2012,GRAND LARCENY,FELONY,,101,QUEENS,N.Y. POLICE DEPT,1053678,159044,\"(40.6029515910001, -73.749976261)\"',\n",
       " '9,495f57e1,08/08/1994 06:00:00 PM,Monday,Aug,8,1994,18,7,31,2008,RAPE,FELONY,A,103,QUEENS,N.Y. POLICE DEPT,1041749,196938,\"(40.707047475, -73.792611904)\"']"
      ]
     },
     "execution_count": 7,
     "metadata": {},
     "output_type": "execute_result"
    }
   ],
   "source": [
    "data.take(10)"
   ]
  },
  {
   "cell_type": "markdown",
   "id": "83441e2d",
   "metadata": {},
   "source": [
    "### Drawing Insights\n",
    "\n",
    "- What is the trend in crime over the past few years?\n",
    "\n",
    "- Which categories of crimes are the most common?\n",
    "\n",
    "- In which boroughs is a particular category of crime most prevalent?\n",
    "\n",
    "### Cleaning Data\n",
    "\n",
    "- Filter the header\n",
    "\n",
    "- Missing values\n",
    "\n",
    "- Anomalous data\n",
    "\n",
    "### Transforming Data\n",
    "\n",
    "- Extracting fields\n",
    "\n",
    "- Computing metrics\n",
    "\n",
    "##### Spark has  a special way of performing all of these operations,  which is a functional way and is slightly different from the traditional way that you would deal with data sets. We will understand tthe functional way of working with data in Spark and the different operations that you would use in this paradigm."
   ]
  },
  {
   "cell_type": "markdown",
   "id": "1cfc6580",
   "metadata": {},
   "source": [
    "### Transforming Data with Spark"
   ]
  },
  {
   "cell_type": "markdown",
   "id": "867b6fde",
   "metadata": {},
   "source": [
    "- To transform data in spark, we use a special paradigm called the functional paradigm.\n",
    "\n",
    "\n",
    "- As we know, RDD is a collections of records. Any transformation or computation on this collection of objects involves doing something with each item in the collection.\n",
    "\n",
    "\n",
    "- One way of doing something with each item in the collection is the imperative way, which is using for loops or while loops.\n",
    "\n",
    "\n",
    "- In this method, we would basically take each element at a time perform some transformation on it then move on to the next element, transform that element and so on until you reach the end of the collection.\n",
    "\n",
    "\n",
    "- In the imperative way, we perform an operation sequentially on each element of the collection. This allows you to keep track of which element we are currently operating on and how mamy we have already finished and how many are left to go.\n",
    "\n",
    "\n",
    "- But this method doesn't involve any parallelism and hence might not be taking advantage of the performance advantages that our distributed computing system might provide.\n",
    "\n",
    "\n",
    "- On the other hand, we could use a functional way.\n",
    "\n",
    "\n",
    "- The functional way will perform an operation independently on every element of the records at the same time and return a new set of records. So it doesn't modify each record in place.\n",
    "\n",
    "\n",
    "- In this method, we are basically taking a function that defines some logic and applying that function on each record in the collection at the same time.\n",
    "\n",
    "\n",
    "- This functional programming allows us to process data in parallel.\n",
    "\n",
    "\n",
    "- Spark uses the functional programming way to actually perform operations on RDDs.\n",
    "\n",
    "\n",
    "- The function that we might apply on each record could be an explicitly defined function.\n",
    "\n",
    "\n",
    "- Such a function would basically act on each record so it should have a single argument and once this function is applied we will get a new RDD whose records will depend upon the results which are returned bu this function.\n",
    "\n",
    "\n",
    "- Rather than defining an explicit function, we can also use lambda functions.\n",
    "\n",
    "\n",
    "- Lambda function are normally defined by an input on one side and an expression which performs some computation on the input and returns an output."
   ]
  },
  {
   "cell_type": "markdown",
   "id": "37698662",
   "metadata": {},
   "source": [
    "### Functional Programming\n",
    "\n",
    "- Filter: The function can be used to filter records which match a certain condition.\n",
    "\n",
    "\n",
    "- Map: They can be used to map or transform each record to a new record.\n",
    "\n",
    "\n",
    "- Reduce: They can be used to combine the records in a specified way, for instance, recompute a sum.\n",
    "\n",
    "#### Filter:\n",
    "\n",
    "- Filter records matching a given condition.\n",
    "\n",
    "\n",
    "- The filter operation takes in a function which returns a Boolean value.\n",
    "\n",
    "\n",
    "- IT will retunrn either true or false for each record that it processes.\n",
    "\n",
    "\n",
    "- If the function returns true, then you would keep the record otherwise, you would drop the record.\n",
    "\n",
    "\n",
    "- The result of the filter operation would be a new RDD in which you have dropped all the records that didn't match the condition that you have specified in your Boolean function.\n",
    "\n",
    "\n",
    "- This operation is useful to filter out a header row in a dat set or you might use it to select rows corresponding to a specific value.\n",
    "\n",
    "\n",
    "#### Map:\n",
    "\n",
    "- Takes a record and transform a record to another record.\n",
    "\n",
    "\n",
    "#### Reduce\n",
    "\n",
    "- The reduce operation is used to combine records in an RDD in a specified way for instance if you wanted to combine the sum of some values or a maximum or a minimum.\n",
    "\n",
    "\n",
    "\n",
    "\n",
    "- The reduce operation is slightly different from the filter and map operations, which are truly applied in parallel on all records in the RDD.\n",
    "\n",
    "\n",
    "- The reduce operation on the other hand is applied on two records at a time. Therefore, unlike the filter and map operations, which take in functions with a single argument the argument representing one record, the reduce opeartion takes in a function with two arguments.\n",
    "\n",
    "#### Combining Records\n",
    "\n",
    "\n",
    "- You would start by applying the function on the first two records in the RDD and get the result. Let's say the function was sum, You would get the sum of the first two arguments then you would apply the same function under the result of the first application and the second record.\n",
    "\n",
    "\n",
    "- In each step, you would apply the function on the result from the previous step and the current record. You would do this until you have combined all the records\n",
    "\n",
    "\n",
    "- Now RDD as you know are partitioned, so the data are split across multiple nodes. In such a case, the reduce operation is applied on each partition then the results from all the partitions are taken to one single node, and reduce operation is applied on those results again."
   ]
  },
  {
   "cell_type": "markdown",
   "id": "9de475e4",
   "metadata": {},
   "source": [
    "##### Filter and Map are Transformation and Reduce is  Action"
   ]
  },
  {
   "cell_type": "code",
   "execution_count": 8,
   "id": "a699e5a0",
   "metadata": {},
   "outputs": [],
   "source": [
    "# Filter the header row\n",
    "header = data.first()"
   ]
  },
  {
   "cell_type": "code",
   "execution_count": 9,
   "id": "1f950bcf",
   "metadata": {},
   "outputs": [
    {
     "name": "stdout",
     "output_type": "stream",
     "text": [
      "OBJECTID,Identifier,Occurrence Date,Day of Week,Occurrence Month,Occurrence Day,Occurrence Year,Occurrence Hour,CompStat Month,CompStat Day,CompStat Year,Offense,Offense Classification,Sector,Precinct,Borough,Jurisdiction,XCoordinate,YCoordinate,Location 1\n"
     ]
    }
   ],
   "source": [
    "print(header)"
   ]
  },
  {
   "cell_type": "code",
   "execution_count": 10,
   "id": "5d3e0cf2",
   "metadata": {},
   "outputs": [],
   "source": [
    "datawoHeader = data.filter(lambda x: x!=header)"
   ]
  },
  {
   "cell_type": "code",
   "execution_count": 11,
   "id": "8d559bce",
   "metadata": {},
   "outputs": [
    {
     "data": {
      "text/plain": [
       "'1,f070032d,09/06/1940 07:30:00 PM,Friday,Sep,6,1940,19,9,7,2010,BURGLARY,FELONY,D,66,BROOKLYN,N.Y. POLICE DEPT,987478,166141,\"(40.6227027620001, -73.9883732929999)\"'"
      ]
     },
     "execution_count": 11,
     "metadata": {},
     "output_type": "execute_result"
    }
   ],
   "source": [
    "datawoHeader.first()"
   ]
  },
  {
   "cell_type": "markdown",
   "id": "05c62eb1",
   "metadata": {},
   "source": [
    "### Transforming records from strings to named tuples\n",
    "\n",
    "- Now we have an RDD which has each record as a string. We would like to convert this to an RDD of named tuples so that each record in the RDd is actually a tuple, and each elementin in that tuple can be referred to by the field name.\n",
    "\n",
    "\n",
    "- The map operation is what will help us do this transformation."
   ]
  },
  {
   "cell_type": "code",
   "execution_count": 12,
   "id": "d58a9437",
   "metadata": {},
   "outputs": [],
   "source": [
    "# Parse the rows to extract fields"
   ]
  },
  {
   "cell_type": "code",
   "execution_count": 13,
   "id": "fbc8e440",
   "metadata": {},
   "outputs": [],
   "source": [
    "new_rdd_with_list = datawoHeader.map(lambda x:x.split(\",\"))"
   ]
  },
  {
   "cell_type": "code",
   "execution_count": 14,
   "id": "c2789f2e",
   "metadata": {},
   "outputs": [
    {
     "data": {
      "text/plain": [
       "[['1',\n",
       "  'f070032d',\n",
       "  '09/06/1940 07:30:00 PM',\n",
       "  'Friday',\n",
       "  'Sep',\n",
       "  '6',\n",
       "  '1940',\n",
       "  '19',\n",
       "  '9',\n",
       "  '7',\n",
       "  '2010',\n",
       "  'BURGLARY',\n",
       "  'FELONY',\n",
       "  'D',\n",
       "  '66',\n",
       "  'BROOKLYN',\n",
       "  'N.Y. POLICE DEPT',\n",
       "  '987478',\n",
       "  '166141',\n",
       "  '\"(40.6227027620001',\n",
       "  ' -73.9883732929999)\"'],\n",
       " ['2',\n",
       "  'c6245d4d',\n",
       "  '12/14/1968 12:20:00 AM',\n",
       "  'Saturday',\n",
       "  'Dec',\n",
       "  '14',\n",
       "  '1968',\n",
       "  '0',\n",
       "  '12',\n",
       "  '14',\n",
       "  '2008',\n",
       "  'GRAND LARCENY',\n",
       "  'FELONY',\n",
       "  'G',\n",
       "  '28',\n",
       "  'MANHATTAN',\n",
       "  'N.Y. POLICE DEPT',\n",
       "  '996470',\n",
       "  '232106',\n",
       "  '\"(40.8037530600001',\n",
       "  ' -73.955861904)\"'],\n",
       " ['3',\n",
       "  '716dbc6f',\n",
       "  '10/30/1970 03:30:00 PM',\n",
       "  'Friday',\n",
       "  'Oct',\n",
       "  '30',\n",
       "  '1970',\n",
       "  '15',\n",
       "  '10',\n",
       "  '31',\n",
       "  '2008',\n",
       "  'BURGLARY',\n",
       "  'FELONY',\n",
       "  'H',\n",
       "  '84',\n",
       "  'BROOKLYN',\n",
       "  'N.Y. POLICE DEPT',\n",
       "  '986508',\n",
       "  '190249',\n",
       "  '\"(40.688874254',\n",
       "  ' -73.9918594329999)\"'],\n",
       " ['4',\n",
       "  '638cd7b7',\n",
       "  '07/18/1972 11:00:00 PM',\n",
       "  'Tuesday',\n",
       "  'Jul',\n",
       "  '18',\n",
       "  '1972',\n",
       "  '23',\n",
       "  '7',\n",
       "  '19',\n",
       "  '2012',\n",
       "  'GRAND LARCENY OF MOTOR VEHICLE',\n",
       "  'FELONY',\n",
       "  'F',\n",
       "  '73',\n",
       "  'BROOKLYN',\n",
       "  'N.Y. POLICE DEPT',\n",
       "  '1005876',\n",
       "  '182440',\n",
       "  '\"(40.6674141890001',\n",
       "  ' -73.9220463899999)\"'],\n",
       " ['5',\n",
       "  '6e410287',\n",
       "  '05/21/1987 12:01:00 AM',\n",
       "  'Thursday',\n",
       "  'May',\n",
       "  '21',\n",
       "  '1987',\n",
       "  '0',\n",
       "  '5',\n",
       "  '28',\n",
       "  '2009',\n",
       "  'GRAND LARCENY',\n",
       "  'FELONY',\n",
       "  'K',\n",
       "  '75',\n",
       "  'BROOKLYN',\n",
       "  'N.Y. POLICE DEPT',\n",
       "  '1017958',\n",
       "  '182266',\n",
       "  '\"(40.6668988440001',\n",
       "  ' -73.878495425)\"'],\n",
       " ['6',\n",
       "  '7eebfe3c',\n",
       "  '02/01/1990 09:00:00 AM',\n",
       "  'Thursday',\n",
       "  'Feb',\n",
       "  '1',\n",
       "  '1990',\n",
       "  '9',\n",
       "  '9',\n",
       "  '17',\n",
       "  '2014',\n",
       "  'GRAND LARCENY',\n",
       "  'FELONY',\n",
       "  'K',\n",
       "  '105',\n",
       "  'QUEENS',\n",
       "  'N.Y. POLICE DEPT',\n",
       "  '1058407',\n",
       "  '204788',\n",
       "  '\"(40.7284698170001',\n",
       "  ' -73.7324430589999)\"'],\n",
       " ['7',\n",
       "  'da21f94f',\n",
       "  '11/13/1990 12:01:00 AM',\n",
       "  'Tuesday',\n",
       "  'Nov',\n",
       "  '13',\n",
       "  '1990',\n",
       "  '0',\n",
       "  '6',\n",
       "  '7',\n",
       "  '2007',\n",
       "  'GRAND LARCENY',\n",
       "  'FELONY',\n",
       "  '',\n",
       "  '73',\n",
       "  'BROOKLYN',\n",
       "  'N.Y. HOUSING POLICE',\n",
       "  '1010272',\n",
       "  '183760',\n",
       "  '\"(40.671025464',\n",
       "  ' -73.906195082)\"'],\n",
       " ['8',\n",
       "  '87c99e8c',\n",
       "  '02/02/1992 04:00:00 PM',\n",
       "  'Sunday',\n",
       "  'Feb',\n",
       "  '2',\n",
       "  '1992',\n",
       "  '16',\n",
       "  '3',\n",
       "  '27',\n",
       "  '2012',\n",
       "  'GRAND LARCENY',\n",
       "  'FELONY',\n",
       "  '',\n",
       "  '101',\n",
       "  'QUEENS',\n",
       "  'N.Y. POLICE DEPT',\n",
       "  '1053678',\n",
       "  '159044',\n",
       "  '\"(40.6029515910001',\n",
       "  ' -73.749976261)\"'],\n",
       " ['9',\n",
       "  '495f57e1',\n",
       "  '08/08/1994 06:00:00 PM',\n",
       "  'Monday',\n",
       "  'Aug',\n",
       "  '8',\n",
       "  '1994',\n",
       "  '18',\n",
       "  '7',\n",
       "  '31',\n",
       "  '2008',\n",
       "  'RAPE',\n",
       "  'FELONY',\n",
       "  'A',\n",
       "  '103',\n",
       "  'QUEENS',\n",
       "  'N.Y. POLICE DEPT',\n",
       "  '1041749',\n",
       "  '196938',\n",
       "  '\"(40.707047475',\n",
       "  ' -73.792611904)\"'],\n",
       " ['10',\n",
       "  '31c0b727',\n",
       "  '10/26/1994 12:01:00 AM',\n",
       "  'Wednesday',\n",
       "  'Oct',\n",
       "  '26',\n",
       "  '1994',\n",
       "  '0',\n",
       "  '6',\n",
       "  '4',\n",
       "  '2008',\n",
       "  'GRAND LARCENY',\n",
       "  'FELONY',\n",
       "  'D',\n",
       "  '17',\n",
       "  'MANHATTAN',\n",
       "  'N.Y. POLICE DEPT',\n",
       "  '992029',\n",
       "  '213332',\n",
       "  '\"(40.7522284',\n",
       "  ' -73.971924858)\"']]"
      ]
     },
     "execution_count": 14,
     "metadata": {},
     "output_type": "execute_result"
    }
   ],
   "source": [
    "new_rdd_with_list.take(10)"
   ]
  },
  {
   "cell_type": "code",
   "execution_count": 15,
   "id": "152a317e",
   "metadata": {},
   "outputs": [
    {
     "data": {
      "text/plain": [
       "[['1',\n",
       "  'f070032d',\n",
       "  '09/06/1940 07:30:00 PM',\n",
       "  'Friday',\n",
       "  'Sep',\n",
       "  '6',\n",
       "  '1940',\n",
       "  '19',\n",
       "  '9',\n",
       "  '7',\n",
       "  '2010',\n",
       "  'BURGLARY',\n",
       "  'FELONY',\n",
       "  'D',\n",
       "  '66',\n",
       "  'BROOKLYN',\n",
       "  'N.Y. POLICE DEPT',\n",
       "  '987478',\n",
       "  '166141',\n",
       "  '\"(40.6227027620001',\n",
       "  ' -73.9883732929999)\"'],\n",
       " ['2',\n",
       "  'c6245d4d',\n",
       "  '12/14/1968 12:20:00 AM',\n",
       "  'Saturday',\n",
       "  'Dec',\n",
       "  '14',\n",
       "  '1968',\n",
       "  '0',\n",
       "  '12',\n",
       "  '14',\n",
       "  '2008',\n",
       "  'GRAND LARCENY',\n",
       "  'FELONY',\n",
       "  'G',\n",
       "  '28',\n",
       "  'MANHATTAN',\n",
       "  'N.Y. POLICE DEPT',\n",
       "  '996470',\n",
       "  '232106',\n",
       "  '\"(40.8037530600001',\n",
       "  ' -73.955861904)\"'],\n",
       " ['3',\n",
       "  '716dbc6f',\n",
       "  '10/30/1970 03:30:00 PM',\n",
       "  'Friday',\n",
       "  'Oct',\n",
       "  '30',\n",
       "  '1970',\n",
       "  '15',\n",
       "  '10',\n",
       "  '31',\n",
       "  '2008',\n",
       "  'BURGLARY',\n",
       "  'FELONY',\n",
       "  'H',\n",
       "  '84',\n",
       "  'BROOKLYN',\n",
       "  'N.Y. POLICE DEPT',\n",
       "  '986508',\n",
       "  '190249',\n",
       "  '\"(40.688874254',\n",
       "  ' -73.9918594329999)\"'],\n",
       " ['4',\n",
       "  '638cd7b7',\n",
       "  '07/18/1972 11:00:00 PM',\n",
       "  'Tuesday',\n",
       "  'Jul',\n",
       "  '18',\n",
       "  '1972',\n",
       "  '23',\n",
       "  '7',\n",
       "  '19',\n",
       "  '2012',\n",
       "  'GRAND LARCENY OF MOTOR VEHICLE',\n",
       "  'FELONY',\n",
       "  'F',\n",
       "  '73',\n",
       "  'BROOKLYN',\n",
       "  'N.Y. POLICE DEPT',\n",
       "  '1005876',\n",
       "  '182440',\n",
       "  '\"(40.6674141890001',\n",
       "  ' -73.9220463899999)\"'],\n",
       " ['5',\n",
       "  '6e410287',\n",
       "  '05/21/1987 12:01:00 AM',\n",
       "  'Thursday',\n",
       "  'May',\n",
       "  '21',\n",
       "  '1987',\n",
       "  '0',\n",
       "  '5',\n",
       "  '28',\n",
       "  '2009',\n",
       "  'GRAND LARCENY',\n",
       "  'FELONY',\n",
       "  'K',\n",
       "  '75',\n",
       "  'BROOKLYN',\n",
       "  'N.Y. POLICE DEPT',\n",
       "  '1017958',\n",
       "  '182266',\n",
       "  '\"(40.6668988440001',\n",
       "  ' -73.878495425)\"']]"
      ]
     },
     "execution_count": 15,
     "metadata": {},
     "output_type": "execute_result"
    }
   ],
   "source": [
    "datawoHeader.map(lambda x:x.split(\",\")).take(5)"
   ]
  },
  {
   "cell_type": "code",
   "execution_count": 16,
   "id": "e11d6114",
   "metadata": {},
   "outputs": [],
   "source": [
    "import csv\n",
    "from io import StringIO\n",
    "from collections import namedtuple"
   ]
  },
  {
   "cell_type": "code",
   "execution_count": 17,
   "id": "e1ff262c",
   "metadata": {},
   "outputs": [
    {
     "data": {
      "text/plain": [
       "'OBJECTID,Identifier,Occurrence Date,Day of Week,Occurrence Month,Occurrence Day,Occurrence Year,Occurrence Hour,CompStat Month,CompStat Day,CompStat Year,Offense,Offense Classification,Sector,Precinct,Borough,Jurisdiction,XCoordinate,YCoordinate,Location 1'"
      ]
     },
     "execution_count": 17,
     "metadata": {},
     "output_type": "execute_result"
    }
   ],
   "source": [
    "header"
   ]
  },
  {
   "cell_type": "code",
   "execution_count": 18,
   "id": "4af26ef0",
   "metadata": {},
   "outputs": [],
   "source": [
    "fields = header.replace(\" \", \"_\").replace(\"/\", \"_\").split(\",\")"
   ]
  },
  {
   "cell_type": "code",
   "execution_count": 19,
   "id": "66c75878",
   "metadata": {},
   "outputs": [
    {
     "data": {
      "text/plain": [
       "['OBJECTID',\n",
       " 'Identifier',\n",
       " 'Occurrence_Date',\n",
       " 'Day_of_Week',\n",
       " 'Occurrence_Month',\n",
       " 'Occurrence_Day',\n",
       " 'Occurrence_Year',\n",
       " 'Occurrence_Hour',\n",
       " 'CompStat_Month',\n",
       " 'CompStat_Day',\n",
       " 'CompStat_Year',\n",
       " 'Offense',\n",
       " 'Offense_Classification',\n",
       " 'Sector',\n",
       " 'Precinct',\n",
       " 'Borough',\n",
       " 'Jurisdiction',\n",
       " 'XCoordinate',\n",
       " 'YCoordinate',\n",
       " 'Location_1']"
      ]
     },
     "execution_count": 19,
     "metadata": {},
     "output_type": "execute_result"
    }
   ],
   "source": [
    "fields"
   ]
  },
  {
   "cell_type": "code",
   "execution_count": 20,
   "id": "1e728d53",
   "metadata": {},
   "outputs": [
    {
     "data": {
      "text/plain": [
       "20"
      ]
     },
     "execution_count": 20,
     "metadata": {},
     "output_type": "execute_result"
    }
   ],
   "source": [
    "len(fields)"
   ]
  },
  {
   "cell_type": "code",
   "execution_count": 21,
   "id": "2344a170",
   "metadata": {},
   "outputs": [],
   "source": [
    "crime = namedtuple('crime', fields)"
   ]
  },
  {
   "cell_type": "code",
   "execution_count": 22,
   "id": "9efd21d1",
   "metadata": {},
   "outputs": [],
   "source": [
    "def parse(row):\n",
    "    reader = csv.reader(StringIO(row))\n",
    "    row = next(reader)\n",
    "    return crime(*row)"
   ]
  },
  {
   "cell_type": "code",
   "execution_count": 23,
   "id": "ddb20b57",
   "metadata": {},
   "outputs": [],
   "source": [
    "crimes=datawoHeader.map(parse)"
   ]
  },
  {
   "cell_type": "code",
   "execution_count": 24,
   "id": "36893692",
   "metadata": {},
   "outputs": [
    {
     "data": {
      "text/plain": [
       "crime(OBJECTID='1', Identifier='f070032d', Occurrence_Date='09/06/1940 07:30:00 PM', Day_of_Week='Friday', Occurrence_Month='Sep', Occurrence_Day='6', Occurrence_Year='1940', Occurrence_Hour='19', CompStat_Month='9', CompStat_Day='7', CompStat_Year='2010', Offense='BURGLARY', Offense_Classification='FELONY', Sector='D', Precinct='66', Borough='BROOKLYN', Jurisdiction='N.Y. POLICE DEPT', XCoordinate='987478', YCoordinate='166141', Location_1='(40.6227027620001, -73.9883732929999)')"
      ]
     },
     "execution_count": 24,
     "metadata": {},
     "output_type": "execute_result"
    }
   ],
   "source": [
    "crimes.first()"
   ]
  },
  {
   "cell_type": "code",
   "execution_count": 25,
   "id": "f9f4aa37",
   "metadata": {},
   "outputs": [
    {
     "data": {
      "text/plain": [
       "'BURGLARY'"
      ]
     },
     "execution_count": 25,
     "metadata": {},
     "output_type": "execute_result"
    }
   ],
   "source": [
    "crimes.first().Offense"
   ]
  },
  {
   "cell_type": "code",
   "execution_count": 26,
   "id": "c0274df9",
   "metadata": {},
   "outputs": [
    {
     "data": {
      "text/plain": [
       "'FELONY'"
      ]
     },
     "execution_count": 26,
     "metadata": {},
     "output_type": "execute_result"
    }
   ],
   "source": [
    "crimes.first().Offense_Classification"
   ]
  },
  {
   "cell_type": "code",
   "execution_count": 27,
   "id": "90631162",
   "metadata": {},
   "outputs": [
    {
     "data": {
      "text/plain": [
       "'(40.6227027620001, -73.9883732929999)'"
      ]
     },
     "execution_count": 27,
     "metadata": {},
     "output_type": "execute_result"
    }
   ],
   "source": [
    "crimes.first().Location_1"
   ]
  },
  {
   "cell_type": "markdown",
   "id": "d9f62ab4",
   "metadata": {},
   "source": [
    "### Identifying missing values\n",
    "\n",
    "### Filtering records with missing values"
   ]
  },
  {
   "cell_type": "code",
   "execution_count": null,
   "id": "38900f03",
   "metadata": {},
   "outputs": [],
   "source": []
  },
  {
   "cell_type": "code",
   "execution_count": 35,
   "id": "e94b345b",
   "metadata": {},
   "outputs": [
    {
     "data": {
      "text/plain": [
       "defaultdict(int,\n",
       "            {'BURGLARY': 191369,\n",
       "             'GRAND LARCENY': 428993,\n",
       "             'GRAND LARCENY OF MOTOR VEHICLE': 101963,\n",
       "             'RAPE': 13779,\n",
       "             'ROBBERY': 198744,\n",
       "             'FELONY ASSAULT': 184042,\n",
       "             'MURDER & NON-NEGL. MANSLAUGHTE': 4574,\n",
       "             'NA': 1})"
      ]
     },
     "execution_count": 35,
     "metadata": {},
     "output_type": "execute_result"
    }
   ],
   "source": [
    "crimes.map(lambda x:x.Offense).countByValue()"
   ]
  },
  {
   "cell_type": "code",
   "execution_count": 36,
   "id": "7bf81438",
   "metadata": {},
   "outputs": [
    {
     "data": {
      "text/plain": [
       "defaultdict(int,\n",
       "            {'1940': 1,\n",
       "             '1968': 1,\n",
       "             '1970': 2,\n",
       "             '1972': 2,\n",
       "             '1987': 6,\n",
       "             '1990': 17,\n",
       "             '1992': 12,\n",
       "             '1994': 19,\n",
       "             '1995': 27,\n",
       "             '1996': 34,\n",
       "             '1998': 74,\n",
       "             '1999': 124,\n",
       "             '2000': 282,\n",
       "             '2001': 343,\n",
       "             '2002': 368,\n",
       "             '2003': 490,\n",
       "             '2004': 692,\n",
       "             '2005': 3272,\n",
       "             '2006': 127887,\n",
       "             '1910': 3,\n",
       "             '1913': 4,\n",
       "             '1945': 2,\n",
       "             '1981': 1,\n",
       "             '1985': 8,\n",
       "             '1988': 6,\n",
       "             '1991': 12,\n",
       "             '1905': 2,\n",
       "             '1971': 1,\n",
       "             '1997': 40,\n",
       "             '1914': 2,\n",
       "             '1956': 1,\n",
       "             '1989': 12,\n",
       "             '1993': 23,\n",
       "             '2015': 102657,\n",
       "             '1954': 1,\n",
       "             '1982': 5,\n",
       "             '1950': 1,\n",
       "             '1959': 1,\n",
       "             '1966': 7,\n",
       "             '1980': 5,\n",
       "             '1912': 1,\n",
       "             '1955': 1,\n",
       "             '1920': 1,\n",
       "             '1964': 1,\n",
       "             '1978': 2,\n",
       "             '1986': 2,\n",
       "             '1915': 3,\n",
       "             '1908': 1,\n",
       "             '1911': 1,\n",
       "             '1965': 2,\n",
       "             '1946': 1,\n",
       "             '1973': 5,\n",
       "             '1975': 2,\n",
       "             '': 244,\n",
       "             '2007': 120554,\n",
       "             '2008': 117375,\n",
       "             '2009': 106018,\n",
       "             '2010': 105643,\n",
       "             '2011': 107206,\n",
       "             '2012': 111798,\n",
       "             '2013': 111286,\n",
       "             '2014': 106849,\n",
       "             '1976': 2,\n",
       "             '1983': 1,\n",
       "             '1977': 3,\n",
       "             '1984': 4,\n",
       "             '1960': 1,\n",
       "             '1979': 6,\n",
       "             '1974': 3,\n",
       "             '1958': 1,\n",
       "             '1969': 1})"
      ]
     },
     "execution_count": 36,
     "metadata": {},
     "output_type": "execute_result"
    }
   ],
   "source": [
    "crimes.map(lambda x:x.Occurrence_Year).countByValue()"
   ]
  },
  {
   "cell_type": "code",
   "execution_count": null,
   "id": "56c20b53",
   "metadata": {},
   "outputs": [],
   "source": []
  },
  {
   "cell_type": "code",
   "execution_count": null,
   "id": "1c2ef4ab",
   "metadata": {},
   "outputs": [],
   "source": []
  },
  {
   "cell_type": "code",
   "execution_count": 37,
   "id": "1c869f4a",
   "metadata": {},
   "outputs": [],
   "source": [
    "crimesFiltered=crimes.filter(lambda x : not (x.Offense=='NA' or x.Occurrence_Year==''))\\\n",
    "                     .filter(lambda x: int(x.Occurrence_Year)>=2006)"
   ]
  },
  {
   "cell_type": "code",
   "execution_count": 38,
   "id": "dc028915",
   "metadata": {},
   "outputs": [
    {
     "data": {
      "text/plain": [
       "defaultdict(int,\n",
       "            {'2006': 127887,\n",
       "             '2015': 102657,\n",
       "             '2007': 120554,\n",
       "             '2008': 117375,\n",
       "             '2009': 106018,\n",
       "             '2010': 105643,\n",
       "             '2011': 107206,\n",
       "             '2012': 111798,\n",
       "             '2013': 111286,\n",
       "             '2014': 106849})"
      ]
     },
     "execution_count": 38,
     "metadata": {},
     "output_type": "execute_result"
    }
   ],
   "source": [
    "crimesFiltered.map(lambda x:x.Occurrence_Year).countByValue()"
   ]
  },
  {
   "cell_type": "code",
   "execution_count": null,
   "id": "5a8fae3a",
   "metadata": {},
   "outputs": [],
   "source": []
  },
  {
   "cell_type": "markdown",
   "id": "99ee9310",
   "metadata": {},
   "source": [
    "### Identifying anomalies\n",
    "\n",
    "### Filtering records with anomalies"
   ]
  },
  {
   "cell_type": "code",
   "execution_count": 39,
   "id": "90311f41",
   "metadata": {},
   "outputs": [],
   "source": [
    "def extractCoords(location):\n",
    "    location_lat = float(location[1:location.index(\",\")])\n",
    "    location_lon = float(location[location.index(\",\")+1:-1])\n",
    "    return (location_lat, location_lon)"
   ]
  },
  {
   "cell_type": "code",
   "execution_count": null,
   "id": "3ae333f6",
   "metadata": {},
   "outputs": [],
   "source": []
  },
  {
   "cell_type": "code",
   "execution_count": 40,
   "id": "c93b0bf7",
   "metadata": {},
   "outputs": [
    {
     "data": {
      "text/plain": [
       "(40.112709974, -77.519206334)"
      ]
     },
     "execution_count": 40,
     "metadata": {},
     "output_type": "execute_result"
    }
   ],
   "source": [
    "crimesFiltered.map(lambda x:extractCoords(x.Location_1))\\\n",
    "              .reduce(lambda x,y:(min(x[0],y[0]),min(x[1],y[1])))"
   ]
  },
  {
   "cell_type": "code",
   "execution_count": 41,
   "id": "3739db45",
   "metadata": {},
   "outputs": [
    {
     "data": {
      "text/plain": [
       "(59.5805088160001, -73.700716685)"
      ]
     },
     "execution_count": 41,
     "metadata": {},
     "output_type": "execute_result"
    }
   ],
   "source": [
    "crimesFiltered.map(lambda x:extractCoords(x.Location_1))\\\n",
    "              .reduce(lambda x,y:(max(x[0],y[0]),max(x[1],y[1])))"
   ]
  },
  {
   "cell_type": "markdown",
   "id": "3feb0c2d",
   "metadata": {},
   "source": [
    "- We can take these coordinates that were returned and put them into Google Maps.\n",
    "- It turns out that the lower corner is actually a place in Pennsylvania and\n",
    "- the upper corner seems to be some place in northern Canada.\n",
    "\n",
    "\n",
    "- So there are definitely anomalies in the location field."
   ]
  },
  {
   "cell_type": "markdown",
   "id": "9a61c4dc",
   "metadata": {},
   "source": [
    "- Now i looked up what the actual boundaries of the New York City area should be and used these values to actually filter out any records whose location falls outside these boundaries.\n",
    "\n",
    "- So we will write a filter operation that will get the latitude and longitude of each record and check whether it lies within these real boundaries."
   ]
  },
  {
   "cell_type": "code",
   "execution_count": 44,
   "id": "51585dd8",
   "metadata": {},
   "outputs": [],
   "source": [
    "crimesFinal = crimesFiltered.filter(lambda x: extractCoords(x.Location_1)[0]>=40.477399 and \\\n",
    "                                   extractCoords(x.Location_1)[0]<=40.917577 and \\\n",
    "                                   extractCoords(x.Location_1)[1]>=-74.25909 and \\\n",
    "                                   extractCoords(x.Location_1)[1]<=-73.700009)"
   ]
  },
  {
   "cell_type": "code",
   "execution_count": 45,
   "id": "0fb8e8de",
   "metadata": {},
   "outputs": [
    {
     "data": {
      "text/plain": [
       "[crime(OBJECTID='258', Identifier='13b6949b', Occurrence_Date='01/09/2006 12:00:00 AM', Day_of_Week='Monday', Occurrence_Month='Jan', Occurrence_Day='9', Occurrence_Year='2006', Occurrence_Hour='0', CompStat_Month='8', CompStat_Day='16', CompStat_Year='2006', Offense='GRAND LARCENY', Offense_Classification='FELONY', Sector='H', Precinct='102', Borough='QUEENS', Jurisdiction='N.Y. POLICE DEPT', XCoordinate='1029007', YCoordinate='194256', Location_1='(40.6997596520001, -73.8385879319999)')]"
      ]
     },
     "execution_count": 45,
     "metadata": {},
     "output_type": "execute_result"
    }
   ],
   "source": [
    "crimesFinal.take(1)"
   ]
  },
  {
   "cell_type": "markdown",
   "id": "419a7304",
   "metadata": {},
   "source": [
    "### Drawing insights from New York City Crime data\n",
    "\n",
    "- we have got a clean structured New York crime data set,\n",
    "\n",
    "\n",
    "- now let's look at the data set and see if we can draw some interesting insights."
   ]
  },
  {
   "cell_type": "markdown",
   "id": "7806f5ad",
   "metadata": {},
   "source": [
    "#### Trend by Year"
   ]
  },
  {
   "cell_type": "code",
   "execution_count": 48,
   "id": "c08246c1",
   "metadata": {},
   "outputs": [
    {
     "data": {
      "text/plain": [
       "defaultdict(int,\n",
       "            {'2006': 127887,\n",
       "             '2015': 102657,\n",
       "             '2007': 120491,\n",
       "             '2008': 117375,\n",
       "             '2009': 106018,\n",
       "             '2010': 105639,\n",
       "             '2011': 107203,\n",
       "             '2012': 111798,\n",
       "             '2013': 111286,\n",
       "             '2014': 106849})"
      ]
     },
     "execution_count": 48,
     "metadata": {},
     "output_type": "execute_result"
    }
   ],
   "source": [
    "crimesFinal.map(lambda x:x.Occurrence_Year).countByValue()"
   ]
  },
  {
   "cell_type": "markdown",
   "id": "2e691d91",
   "metadata": {},
   "source": [
    "- Looking at this crime in New York City at an overall level definitely seems to be decreasing over 2006 to 2015.\n",
    "\n",
    "\n",
    "- although there was an uptick in 2012 and 2013\n",
    "\n",
    "\n",
    "- now this is a very high-level picture so you might want to actually look at a specific category of crimes and how the trend has been for that category.\n",
    "\n",
    "\n",
    "- So let's use a filter operation to filter out only those rows where the offense type is burglary\n",
    "\n",
    "\n",
    "- then we use the same operation to extract the occurrence year and countByValue to summarize the trend burglary trend.\n",
    "\n",
    "\n",
    "- Burglaries have definitely been falling in New York City from 2006 to 2015,\n",
    "\n",
    "\n",
    "- there are a bunch of questions that you can ask and just play around with, \n",
    "\n",
    "\n",
    "- summarizing it in a variety of ways using the same filter map and countByValue combination."
   ]
  },
  {
   "cell_type": "markdown",
   "id": "c835ffef",
   "metadata": {},
   "source": [
    "### Let's just see if we can get a visual representation of the geographic spread of these crimes.\n",
    "\n",
    "\n",
    "- We will use a Python module called gmplot,\n",
    "\n",
    "\n",
    "- which allows you to plot points on Google Maps if you know the latitudes and longitudes"
   ]
  },
  {
   "cell_type": "markdown",
   "id": "b65d42e9",
   "metadata": {},
   "source": [
    "### Summary:\n",
    "\n",
    "\n",
    "- Filter records matching a certain condition\n",
    "\n",
    "\n",
    "- Transform data using the map operation\n",
    "\n",
    "\n",
    "- Compute aggregates using the reduce operation\n",
    "\n",
    "\n",
    "- Identify and remove anomalies, missing values"
   ]
  },
  {
   "cell_type": "code",
   "execution_count": null,
   "id": "47f91631",
   "metadata": {},
   "outputs": [],
   "source": []
  },
  {
   "cell_type": "markdown",
   "id": "6bb19966",
   "metadata": {},
   "source": [
    "#### Rough for function Explanation"
   ]
  },
  {
   "cell_type": "code",
   "execution_count": 52,
   "id": "6473e75a",
   "metadata": {},
   "outputs": [
    {
     "data": {
      "text/plain": [
       "['U']"
      ]
     },
     "execution_count": 52,
     "metadata": {},
     "output_type": "execute_result"
    }
   ],
   "source": [
    "import csv\n",
    "row = csv.reader(\"Upendra,Bokaro,sunday,Bike,'(8102297061 samsumg)'\")\n",
    "next(row)"
   ]
  },
  {
   "cell_type": "code",
   "execution_count": 53,
   "id": "2faa436c",
   "metadata": {},
   "outputs": [],
   "source": [
    "import csv\n",
    "row = csv.reader(StringIO(\"Upendra,Bokaro,sunday,Bike,'(8102297061 samsumg)'\"))"
   ]
  },
  {
   "cell_type": "code",
   "execution_count": 54,
   "id": "abfb44c3",
   "metadata": {},
   "outputs": [
    {
     "data": {
      "text/plain": [
       "'Bokaro'"
      ]
     },
     "execution_count": 54,
     "metadata": {},
     "output_type": "execute_result"
    }
   ],
   "source": [
    "row1 = next(row)\n",
    "row1\n",
    "\n",
    "f = [\"Name\", \"Place\", \"Day\", \"Mode\", \"PhoneNumber\"]\n",
    "\n",
    "test = namedtuple(\"testing\", f)\n",
    "\n",
    "test(*row1)\n",
    "\n",
    "test(*row1).Place"
   ]
  },
  {
   "cell_type": "code",
   "execution_count": null,
   "id": "5ea95778",
   "metadata": {},
   "outputs": [],
   "source": []
  }
 ],
 "metadata": {
  "kernelspec": {
   "display_name": "Python 3.8.10(ipykernel)",
   "language": "python",
   "name": "python3.8"
  },
  "language_info": {
   "codemirror_mode": {
    "name": "ipython",
    "version": 3
   },
   "file_extension": ".py",
   "mimetype": "text/x-python",
   "name": "python",
   "nbconvert_exporter": "python",
   "pygments_lexer": "ipython3",
   "version": "3.8.10"
  }
 },
 "nbformat": 4,
 "nbformat_minor": 5
}
